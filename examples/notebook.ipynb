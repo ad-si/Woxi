{
 "cells": [
  {
   "cell_type": "markdown",
   "id": "3d671753-c755-4b6b-abe8-e59ac71fae30",
   "metadata": {},
   "source": [
    "## Woxi even provides a Jupyter kernel!"
   ]
  },
  {
   "cell_type": "code",
   "execution_count": 1,
   "id": "591df99f-5c69-497a-8bb6-9cac3ba4cf16",
   "metadata": {
    "vscode": {
     "languageId": "wolfram language"
    }
   },
   "outputs": [
    {
     "data": {
      "text/plain": [
       "Hello world!"
      ]
     },
     "execution_count": 1,
     "metadata": {},
     "output_type": "execute_result"
    }
   ],
   "source": [
    "StringJoin[\"Hello\", \" \", \"world!\"]"
   ]
  },
  {
   "cell_type": "code",
   "execution_count": 2,
   "id": "aa75e7d7-0889-4b05-9726-e1f22024af30",
   "metadata": {
    "vscode": {
     "languageId": "wolfram language"
    }
   },
   "outputs": [
    {
     "data": {
      "text/plain": [
       "{5, 3, 6, 2, 4}"
      ]
     },
     "execution_count": 2,
     "metadata": {},
     "output_type": "execute_result"
    }
   ],
   "source": [
    "RandomInteger[{1, 6}, 5]"
   ]
  },
  {
   "cell_type": "code",
   "execution_count": 3,
   "id": "efe850d8-fd96-4db3-ae4a-e100c15764d1",
   "metadata": {
    "vscode": {
     "languageId": "wolfram language"
    }
   },
   "outputs": [
    {
     "data": {
      "text/plain": [
       "10"
      ]
     },
     "execution_count": 3,
     "metadata": {},
     "output_type": "execute_result"
    }
   ],
   "source": [
    "Double[x_] := x * 2;\n",
    "Double[5]"
   ]
  },
  {
   "cell_type": "code",
   "execution_count": 4,
   "id": "52d83272-cd5f-4b26-9180-4317aa054ded",
   "metadata": {},
   "outputs": [
    {
     "data": {
      "text/plain": [
       "2025-05-18T16:19:37"
      ]
     },
     "execution_count": 4,
     "metadata": {},
     "output_type": "execute_result"
    }
   ],
   "source": [
    "DateString[Now, \"ISODateTime\"]"
   ]
  },
  {
   "cell_type": "code",
   "execution_count": null,
   "id": "3f596f7a-b8a9-45d9-a07f-1bb21d3d460a",
   "metadata": {},
   "outputs": [],
   "source": []
  }
 ],
 "metadata": {
  "kernelspec": {
   "display_name": "Woxi",
   "language": "wolfram-language",
   "name": "woxi"
  },
  "language_info": {
   "codemirror_mode": "mathematica",
   "file_extension": ".wls",
   "mimetype": "text/x-mathematica",
   "name": "woxi",
   "nbconvert_exporter": "text",
   "pygments_lexer": "mathematica",
   "version": "0.1.0"
  }
 },
 "nbformat": 4,
 "nbformat_minor": 5
}
